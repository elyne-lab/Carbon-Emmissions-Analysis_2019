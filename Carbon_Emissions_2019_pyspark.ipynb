{
  "nbformat": 4,
  "nbformat_minor": 0,
  "metadata": {
    "colab": {
      "provenance": []
    },
    "kernelspec": {
      "name": "python3",
      "display_name": "Python 3"
    },
    "language_info": {
      "name": "python"
    }
  },
  "cells": [
    {
      "cell_type": "markdown",
      "source": [
        "## 1. Find a dataset and import it into PySpark"
      ],
      "metadata": {
        "id": "0E_LhIPClfP5"
      }
    },
    {
      "cell_type": "code",
      "execution_count": null,
      "metadata": {
        "id": "OvfNLyM-i07x"
      },
      "outputs": [],
      "source": [
        "## importing pyspark\n",
        "from pyspark.sql import SparkSession\n",
        "\n",
        "# initialize a spark session\n",
        "spark = SparkSession.builder.getOrCreate()\n",
        "\n",
        "import pandas as pd\n",
        "\n",
        "data = pd.read_csv('/content/carbon_table.csv')\n",
        "\n",
        "data.to_csv('carbon_table.csv', index = False)\n"
      ]
    },
    {
      "cell_type": "code",
      "source": [
        "\n",
        "df = spark.read.csv('/content/carbon_table.csv', header = True, inferSchema=True)\n",
        "\n",
        "df.printSchema()\n",
        "df.show(5)"
      ],
      "metadata": {
        "colab": {
          "base_uri": "https://localhost:8080/"
        },
        "id": "gOM6ZS9mj2VT",
        "outputId": "54441012-1a83-4911-98f2-6859760845db"
      },
      "execution_count": null,
      "outputs": [
        {
          "output_type": "stream",
          "name": "stdout",
          "text": [
            "root\n",
            " |-- Country: string (nullable = true)\n",
            " |-- Region: string (nullable = true)\n",
            " |-- Date: string (nullable = true)\n",
            " |-- KilotonsCo2: double (nullable = true)\n",
            " |-- MetricTonsPerCapita: double (nullable = true)\n",
            "\n",
            "+-----------+------+----------+-----------+-------------------+\n",
            "|    Country|Region|      Date|KilotonsCo2|MetricTonsPerCapita|\n",
            "+-----------+------+----------+-----------+-------------------+\n",
            "|Afghanistan|  Asia|01/01/2011|     8930.0|               0.31|\n",
            "|Afghanistan|  Asia|01/01/2012|     8080.0|               0.27|\n",
            "|Afghanistan|  Asia|01/01/2010|     7110.0|               0.25|\n",
            "|Afghanistan|  Asia|01/01/2019|     6080.0|               0.16|\n",
            "|Afghanistan|  Asia|01/01/2018|     6070.0|               0.17|\n",
            "+-----------+------+----------+-----------+-------------------+\n",
            "only showing top 5 rows\n",
            "\n"
          ]
        }
      ]
    },
    {
      "cell_type": "markdown",
      "source": [
        "## 2. Create a Temporary SQL View"
      ],
      "metadata": {
        "id": "gSP0atdgl_yK"
      }
    },
    {
      "cell_type": "code",
      "source": [
        "df.createOrReplaceTempView('Carbon_Emissions')\n",
        "\n",
        "spark.sql('SELECT * FROM Carbon_Emissions LIMIT 10').show()"
      ],
      "metadata": {
        "colab": {
          "base_uri": "https://localhost:8080/"
        },
        "id": "5kt9pk0KlbxH",
        "outputId": "35071770-3326-4e39-a3e1-0b20fa2ba6ba"
      },
      "execution_count": 69,
      "outputs": [
        {
          "output_type": "stream",
          "name": "stdout",
          "text": [
            "+-----------+------+----------+-----------+-------------------+\n",
            "|    Country|Region|      Date|KilotonsCo2|MetricTonsPerCapita|\n",
            "+-----------+------+----------+-----------+-------------------+\n",
            "|Afghanistan|  Asia|01/01/2011|     8930.0|               0.31|\n",
            "|Afghanistan|  Asia|01/01/2012|     8080.0|               0.27|\n",
            "|Afghanistan|  Asia|01/01/2010|     7110.0|               0.25|\n",
            "|Afghanistan|  Asia|01/01/2019|     6080.0|               0.16|\n",
            "|Afghanistan|  Asia|01/01/2018|     6070.0|               0.17|\n",
            "|Afghanistan|  Asia|01/01/2013|     5990.0|               0.19|\n",
            "|Afghanistan|  Asia|01/01/2015|     5950.0|               0.18|\n",
            "|Afghanistan|  Asia|01/01/2016|     5300.0|               0.15|\n",
            "|Afghanistan|  Asia|01/01/2014|     4880.0|               0.15|\n",
            "|Afghanistan|  Asia|01/01/2009|     4880.0|               0.18|\n",
            "+-----------+------+----------+-----------+-------------------+\n",
            "\n"
          ]
        }
      ]
    },
    {
      "cell_type": "markdown",
      "source": [
        "## Analysis questions\n"
      ],
      "metadata": {
        "id": "t4Wn2VVSoGuX"
      }
    },
    {
      "cell_type": "markdown",
      "source": [
        "1.What are the top 10 countries with the highest CO₂ emissions?\n",
        "\n",
        "2.How have global CO₂ emissions changed over time?\n",
        "\n",
        "3.What is the average CO₂ emission per capita by country?\n",
        "\n",
        "4.Which countries have had the highest emissions growth rate over the last decade?\n",
        "\n",
        "5.What is the correlation between a country’s GDP and its CO₂ emissions?\n",
        "\n",
        "6.What is the distribution of CO₂ emissions by continent?\n",
        "\n",
        "7.How do emissions compare between high-income and low-income countries?"
      ],
      "metadata": {
        "id": "abynOGH_oM19"
      }
    },
    {
      "cell_type": "markdown",
      "source": [],
      "metadata": {
        "id": "QXmQjp6-_iUL"
      }
    },
    {
      "cell_type": "code",
      "source": [
        "# 1. What are the top 10 countries with the highest CO₂ emissions?\n",
        "from pyspark.sql.functions import sum\n",
        "\n",
        "spark.sql(\"SELECT Country, SUM(KilotonsCo2) AS Kilotons_of_Co2 FROM Carbon_Emissions GROUP BY Country order by Kilotons_of_Co2 desc LIMIT 10\").show()"
      ],
      "metadata": {
        "colab": {
          "base_uri": "https://localhost:8080/"
        },
        "id": "G_Ti6PuepUUL",
        "outputId": "6020d378-a8d6-43cf-827e-b7b07f2571b9"
      },
      "execution_count": null,
      "outputs": [
        {
          "output_type": "stream",
          "name": "stdout",
          "text": [
            "+--------------+--------------------+\n",
            "|       Country|     Kilotons_of_Co2|\n",
            "+--------------+--------------------+\n",
            "|         China|      1.8072282926E8|\n",
            "| United States|1.5831788067999998E8|\n",
            "|        Russia| 5.002866996000001E7|\n",
            "|         India|       3.988272997E7|\n",
            "|         Japan|3.5076589730000004E7|\n",
            "|       Germany| 2.436702003000001E7|\n",
            "|        Canada|       1.543650005E7|\n",
            "|United Kingdom|       1.482421001E7|\n",
            "|   South Korea|       1.440726999E7|\n",
            "|          Iran|       1.294062992E7|\n",
            "+--------------+--------------------+\n",
            "\n"
          ]
        }
      ]
    },
    {
      "cell_type": "code",
      "source": [
        "# 2. Global CO₂ emissions change over time\n",
        "global_emissions_over_time = spark.sql(\"SELECT Date, SUM(KilotonsCo2) AS  Kilotons_of_Co2 FROM Carbon_Emissions GROUP BY Date ORDER BY Date\")\n",
        "global_emissions_over_time.show()"
      ],
      "metadata": {
        "colab": {
          "base_uri": "https://localhost:8080/"
        },
        "id": "L5yafLt7S8yG",
        "outputId": "c035b7b0-a156-4020-a073-4371d138107d"
      },
      "execution_count": null,
      "outputs": [
        {
          "output_type": "stream",
          "name": "stdout",
          "text": [
            "+----------+--------------------+\n",
            "|      Date|     Kilotons_of_Co2|\n",
            "+----------+--------------------+\n",
            "|01/01/1990|           2.03418E7|\n",
            "|01/01/1991|          2.048254E7|\n",
            "|01/01/1992|          2.051304E7|\n",
            "|01/01/1993|          2.065112E7|\n",
            "|01/01/1994|          2.076525E7|\n",
            "|01/01/1995|          2.135675E7|\n",
            "|01/01/1996|          2.180764E7|\n",
            "|01/01/1997|          2.218302E7|\n",
            "|01/01/1998|            2.2303E7|\n",
            "|01/01/1999|          2.240613E7|\n",
            "|01/01/2000|          2.312339E7|\n",
            "|01/01/2001|          2.351834E7|\n",
            "|01/01/2002|        2.38333498E7|\n",
            "|01/01/2003|       2.493990031E7|\n",
            "|01/01/2004|2.6073289890000004E7|\n",
            "|01/01/2005|       2.703967003E7|\n",
            "|01/01/2006|2.7916500200000003E7|\n",
            "|01/01/2007|2.8968049919999998E7|\n",
            "|01/01/2008|       2.919115984E7|\n",
            "|01/01/2009|2.8867640009999998E7|\n",
            "+----------+--------------------+\n",
            "only showing top 20 rows\n",
            "\n"
          ]
        }
      ]
    },
    {
      "cell_type": "markdown",
      "source": [
        "There is a gradual increase in the CO2 emission over the years with no sign of significant reduction. It is eviident that the same trend is likely to continue unless some drastic and extreme measures are employed to bring the curve down."
      ],
      "metadata": {
        "id": "DdHYPsc-rMpo"
      }
    },
    {
      "cell_type": "code",
      "source": [
        "# 3. Average CO₂ emission per capita by country\n",
        "avg_emission_per_capita = spark.sql(\"SELECT Country, AVG(MetricTonsPerCapita) AS avg_MetricTonsPerCapita FROM Carbon_Emissions GROUP BY Country ORDER BY avg_MetricTonsPerCapita DESC LIMIT 10\")\n",
        "avg_emission_per_capita.show()"
      ],
      "metadata": {
        "colab": {
          "base_uri": "https://localhost:8080/"
        },
        "id": "Zg0_LzM1rMY7",
        "outputId": "fa28a30e-3cfd-49f2-bbd4-601b9a693207"
      },
      "execution_count": null,
      "outputs": [
        {
          "output_type": "stream",
          "name": "stdout",
          "text": [
            "+-------------+-----------------------+\n",
            "|      Country|avg_MetricTonsPerCapita|\n",
            "+-------------+-----------------------+\n",
            "|        Qatar|     38.540666666666674|\n",
            "|          UAE|     25.111666666666668|\n",
            "|       Kuwait|     23.585333333333335|\n",
            "|      Bahrain|     22.069666666666667|\n",
            "|   Luxembourg|      21.55966666666667|\n",
            "|United States|     18.151666666666664|\n",
            "|    Australia|      16.88266666666667|\n",
            "|       Canada|     15.920999999999994|\n",
            "|       Brunei|     15.894666666666664|\n",
            "| Saudi Arabia|     13.306999999999995|\n",
            "+-------------+-----------------------+\n",
            "\n"
          ]
        }
      ]
    },
    {
      "cell_type": "markdown",
      "source": [
        "1.A country like China has high total CO₂ emissions due to its large population, but its per capita emissions are often lower than smaller, more industrialized nations like Qatar or the United States.\n",
        "\n",
        "2.Developed countries like the U.S. and Australia typically have higher per capita emissions than developing countries, reflecting industrial activities, transportation use, and energy-intensive lifestyles.\n",
        "\n",
        "3.Scandinavian countries, despite being highly developed, often have lower per capita emissions due to their high use of renewable energy, whereas countries relying on coal tend to have higher per capita emissions.\n",
        "\n",
        "4.Oil-rich countries in the Middle East, with smaller populations and higher GDP per capita, often show high emissions per capita, driven by energy-intensive infrastructure, desalination, and air conditioning."
      ],
      "metadata": {
        "id": "s3vWU8hYuA77"
      }
    },
    {
      "cell_type": "code",
      "source": [
        "df_new = spark.sql(\"\"\"SELECT\n",
        "Country,\n",
        "Region,\n",
        "KilotonsCo2,\n",
        "MetricTonsPerCapita,\n",
        "    Date,\n",
        "    CAST(LEFT(Date, 2) AS INT) AS day,\n",
        "    CAST(SUBSTRING(Date, 4, 2) AS INT) AS month,\n",
        "    CAST(RIGHT(Date, 4) AS INT) AS year\n",
        "FROM Carbon_Emissions\n",
        "\"\"\")\n",
        "df_new.show()\n",
        "\n",
        "## I would like this data to appear of the Carbon_Emissions table but it is not appearing.\n",
        "##This is for the purpose of analysing the growth rates hence the year factor(int type) is required."
      ],
      "metadata": {
        "colab": {
          "base_uri": "https://localhost:8080/"
        },
        "id": "KKQ4k4xppEjj",
        "outputId": "7b5dc5f8-7e58-4cd6-d21f-4e8f5ef3d892"
      },
      "execution_count": 77,
      "outputs": [
        {
          "output_type": "stream",
          "name": "stdout",
          "text": [
            "+-----------+------+-----------+-------------------+----------+---+-----+----+\n",
            "|    Country|Region|KilotonsCo2|MetricTonsPerCapita|      Date|day|month|year|\n",
            "+-----------+------+-----------+-------------------+----------+---+-----+----+\n",
            "|Afghanistan|  Asia|     8930.0|               0.31|01/01/2011|  1|    1|2011|\n",
            "|Afghanistan|  Asia|     8080.0|               0.27|01/01/2012|  1|    1|2012|\n",
            "|Afghanistan|  Asia|     7110.0|               0.25|01/01/2010|  1|    1|2010|\n",
            "|Afghanistan|  Asia|     6080.0|               0.16|01/01/2019|  1|    1|2019|\n",
            "|Afghanistan|  Asia|     6070.0|               0.17|01/01/2018|  1|    1|2018|\n",
            "|Afghanistan|  Asia|     5990.0|               0.19|01/01/2013|  1|    1|2013|\n",
            "|Afghanistan|  Asia|     5950.0|               0.18|01/01/2015|  1|    1|2015|\n",
            "|Afghanistan|  Asia|     5300.0|               0.15|01/01/2016|  1|    1|2016|\n",
            "|Afghanistan|  Asia|     4880.0|               0.15|01/01/2014|  1|    1|2014|\n",
            "|Afghanistan|  Asia|     4880.0|               0.18|01/01/2009|  1|    1|2009|\n",
            "|Afghanistan|  Asia|     4780.0|               0.13|01/01/2017|  1|    1|2017|\n",
            "|Afghanistan|  Asia|     3560.0|               0.13|01/01/2008|  1|    1|2008|\n",
            "|Afghanistan|  Asia|     2380.0|               0.22|01/01/1990|  1|    1|1990|\n",
            "|Afghanistan|  Asia|     2230.0|               0.21|01/01/1991|  1|    1|1991|\n",
            "|Afghanistan|  Asia|     1770.0|               0.07|01/01/2007|  1|    1|2007|\n",
            "|Afghanistan|  Asia|     1760.0|               0.07|01/01/2006|  1|    1|2006|\n",
            "|Afghanistan|  Asia|     1550.0|               0.06|01/01/2005|  1|    1|2005|\n",
            "|Afghanistan|  Asia|     1390.0|               0.12|01/01/1992|  1|    1|1992|\n",
            "|Afghanistan|  Asia|     1340.0|                0.1|01/01/1993|  1|    1|1993|\n",
            "|Afghanistan|  Asia|     1290.0|               0.08|01/01/1994|  1|    1|1994|\n",
            "+-----------+------+-----------+-------------------+----------+---+-----+----+\n",
            "only showing top 20 rows\n",
            "\n"
          ]
        }
      ]
    },
    {
      "cell_type": "code",
      "source": [
        "##Register it as a Temporary View in Spark SQL\n",
        "\n",
        "df_new.createOrReplaceTempView(\"Modified_DateEmissions\")"
      ],
      "metadata": {
        "id": "xQCBgwxfxhLq"
      },
      "execution_count": 82,
      "outputs": []
    },
    {
      "cell_type": "code",
      "source": [
        "spark.sql('SELECT * FROM Modified_DateEmissions LIMIT 10').show()"
      ],
      "metadata": {
        "colab": {
          "base_uri": "https://localhost:8080/"
        },
        "id": "hCvq_fonzwbR",
        "outputId": "2d0a9d31-a741-4b5c-c400-dd4bb6639939"
      },
      "execution_count": 85,
      "outputs": [
        {
          "output_type": "stream",
          "name": "stdout",
          "text": [
            "+-----------+------+-----------+-------------------+----------+---+-----+----+\n",
            "|    Country|Region|KilotonsCo2|MetricTonsPerCapita|      Date|day|month|year|\n",
            "+-----------+------+-----------+-------------------+----------+---+-----+----+\n",
            "|Afghanistan|  Asia|     8930.0|               0.31|01/01/2011|  1|    1|2011|\n",
            "|Afghanistan|  Asia|     8080.0|               0.27|01/01/2012|  1|    1|2012|\n",
            "|Afghanistan|  Asia|     7110.0|               0.25|01/01/2010|  1|    1|2010|\n",
            "|Afghanistan|  Asia|     6080.0|               0.16|01/01/2019|  1|    1|2019|\n",
            "|Afghanistan|  Asia|     6070.0|               0.17|01/01/2018|  1|    1|2018|\n",
            "|Afghanistan|  Asia|     5990.0|               0.19|01/01/2013|  1|    1|2013|\n",
            "|Afghanistan|  Asia|     5950.0|               0.18|01/01/2015|  1|    1|2015|\n",
            "|Afghanistan|  Asia|     5300.0|               0.15|01/01/2016|  1|    1|2016|\n",
            "|Afghanistan|  Asia|     4880.0|               0.15|01/01/2014|  1|    1|2014|\n",
            "|Afghanistan|  Asia|     4880.0|               0.18|01/01/2009|  1|    1|2009|\n",
            "+-----------+------+-----------+-------------------+----------+---+-----+----+\n",
            "\n"
          ]
        }
      ]
    },
    {
      "cell_type": "code",
      "source": [
        "##Testing the new table to displa values in 2010 only\n",
        "\n",
        "spark.sql('SELECT * FROM Modified_DateEmissions where year == 2010 LIMIT 10').show()"
      ],
      "metadata": {
        "colab": {
          "base_uri": "https://localhost:8080/"
        },
        "id": "JwqPe715ubUO",
        "outputId": "ecfa1c75-2720-431e-f768-a0ac9ef5f108"
      },
      "execution_count": 86,
      "outputs": [
        {
          "output_type": "stream",
          "name": "stdout",
          "text": [
            "+-------------------+--------+-----------+-------------------+----------+---+-----+----+\n",
            "|            Country|  Region|KilotonsCo2|MetricTonsPerCapita|      Date|day|month|year|\n",
            "+-------------------+--------+-----------+-------------------+----------+---+-----+----+\n",
            "|        Afghanistan|    Asia|     7110.0|               0.25|01/01/2010|  1|    1|2010|\n",
            "|            Albania|  Europe|     4450.0|               1.53|01/01/2010|  1|    1|2010|\n",
            "|            Algeria|  Africa|   114180.0|               3.18|01/01/2010|  1|    1|2010|\n",
            "|            Andorra|  Europe|      520.0|               7.27|01/01/2010|  1|    1|2010|\n",
            "|             Angola|  Africa|    22800.0|               0.98|01/01/2010|  1|    1|2010|\n",
            "|Antigua And Barbuda|Americas|      490.0|               5.72|01/01/2010|  1|    1|2010|\n",
            "|          Argentina|Americas|   167220.0|                4.1|01/01/2010|  1|    1|2010|\n",
            "|            Armenia|    Asia|     4340.0|               1.47|01/01/2010|  1|    1|2010|\n",
            "|          Australia| Oceania|  387540.01|              17.59|01/01/2010|  1|    1|2010|\n",
            "|            Austria|  Europe|    69960.0|               8.37|01/01/2010|  1|    1|2010|\n",
            "+-------------------+--------+-----------+-------------------+----------+---+-----+----+\n",
            "\n"
          ]
        }
      ]
    },
    {
      "cell_type": "code",
      "source": [
        "# 4. Highest emissions growth rate over the last decade reference date 2019 by country\n",
        "growth_rate_last_decade = spark.sql(\"\"\"\n",
        "    SELECT Country, (SUM(CASE WHEN year >= 2010 THEN KilotonsCo2 ELSE 0 END) - SUM(CASE WHEN year < 2010 THEN KilotonsCo2 ELSE 0 END)) / SUM(CASE WHEN year < 2010 THEN KilotonsCo2 ELSE 1 END) * 100 AS Growth_Rate\n",
        "    FROM Modified_DateEmissions\n",
        "    WHERE year >= 2000\n",
        "    GROUP BY Country\n",
        "    ORDER BY Growth_Rate DESC\n",
        "\"\"\")\n",
        "\n",
        "growth_rate_last_decade.show()"
      ],
      "metadata": {
        "colab": {
          "base_uri": "https://localhost:8080/"
        },
        "id": "QZl42pxe2RUU",
        "outputId": "023d2319-3669-4fee-967c-4036b0fc8ebd"
      },
      "execution_count": 88,
      "outputs": [
        {
          "output_type": "stream",
          "name": "stdout",
          "text": [
            "+------------+------------------+\n",
            "|     Country|       Growth_Rate|\n",
            "+------------+------------------+\n",
            "|     Lao PDR| 580.8219178082192|\n",
            "|        Chad|317.01680672268907|\n",
            "| Afghanistan|245.24590163934428|\n",
            "|    Cambodia|214.66758053461277|\n",
            "| Timor-Leste|           196.875|\n",
            "|Burkina Faso|191.66666666666669|\n",
            "|       Nepal|186.14732724902217|\n",
            "|  Mozambique|183.79530916844348|\n",
            "|      Bhutan|175.88652482269504|\n",
            "|     Burundi| 146.7741935483871|\n",
            "|       Niger| 141.8043202033037|\n",
            "|     Vietnam|141.21813030674534|\n",
            "|      Zambia|140.66985645933013|\n",
            "|    Ethiopia|137.38532110091742|\n",
            "|        Mali|130.83952027412906|\n",
            "|    Tanzania|119.55121545813424|\n",
            "|     Myanmar|117.24063941637164|\n",
            "|      Uganda| 116.1567877629063|\n",
            "|  Bangladesh|110.27954489845852|\n",
            "|    Maldives|109.02679830747533|\n",
            "+------------+------------------+\n",
            "only showing top 20 rows\n",
            "\n"
          ]
        }
      ]
    },
    {
      "cell_type": "code",
      "source": [
        "# 5. Highest emissions growth rate over the last decade reference date 2019 per Region\n",
        "growth_rate_last_decade = spark.sql(\"\"\"\n",
        "    SELECT Region, (SUM(CASE WHEN year >= 2010 THEN KilotonsCo2 ELSE 0 END) - SUM(CASE WHEN year < 2010 THEN KilotonsCo2 ELSE 0 END)) / SUM(CASE WHEN year < 2010 THEN KilotonsCo2 ELSE 1 END) * 100 AS Growth_Rate\n",
        "    FROM Modified_DateEmissions\n",
        "    WHERE year >= 2000\n",
        "    GROUP BY Region\n",
        "    ORDER BY Growth_Rate DESC\n",
        "\"\"\")\n",
        "\n",
        "growth_rate_last_decade.show()"
      ],
      "metadata": {
        "colab": {
          "base_uri": "https://localhost:8080/"
        },
        "id": "G7DzT4sc3Zaf",
        "outputId": "c568ce95-7e23-4d48-9f1c-e6a67de18539"
      },
      "execution_count": 89,
      "outputs": [
        {
          "output_type": "stream",
          "name": "stdout",
          "text": [
            "+--------+------------------+\n",
            "|  Region|       Growth_Rate|\n",
            "+--------+------------------+\n",
            "|    Asia|59.284103789366306|\n",
            "|  Africa| 33.35072692920745|\n",
            "| Oceania|  4.53992131264198|\n",
            "|Americas|-3.556658403997579|\n",
            "|  Europe|-10.17594591339455|\n",
            "+--------+------------------+\n",
            "\n"
          ]
        }
      ]
    },
    {
      "cell_type": "code",
      "source": [
        "# 6. What is the distribution of CO₂ emissions by region?\n",
        "from pyspark.sql.functions import sum\n",
        "\n",
        "spark.sql(\"SELECT Region, SUM(KilotonsCo2) AS Kilotons_of_Co2 FROM Carbon_Emissions GROUP BY Region order by Kilotons_of_Co2 desc LIMIT 10\").show()"
      ],
      "metadata": {
        "colab": {
          "base_uri": "https://localhost:8080/"
        },
        "id": "XJ9XQAfgWlTa",
        "outputId": "ac5e0c9b-1cbc-4e5c-b091-7ae4b6383891"
      },
      "execution_count": null,
      "outputs": [
        {
          "output_type": "stream",
          "name": "stdout",
          "text": [
            "+--------+--------------------+\n",
            "|  Region|     Kilotons_of_Co2|\n",
            "+--------+--------------------+\n",
            "|    Asia|3.6712977895000005E8|\n",
            "|Americas|2.1460027071000004E8|\n",
            "|  Europe|1.7936528989999992E8|\n",
            "|  Africa|2.9144590010000005E7|\n",
            "| Oceania|1.1518039990000002E7|\n",
            "+--------+--------------------+\n",
            "\n"
          ]
        }
      ]
    },
    {
      "cell_type": "markdown",
      "source": [
        "## 5. Visualization"
      ],
      "metadata": {
        "id": "L3EkTNDOpA_W"
      }
    },
    {
      "cell_type": "code",
      "source": [
        "#Import data visualization libraries\n",
        "import seaborn as sns\n",
        "import matplotlib.pyplot as plt\n",
        "\n",
        "# Convert Spark DataFrame to Pandas DataFrame for visualization\n",
        "\n",
        "top_10_countries_pd = spark.sql(\"SELECT Country, SUM(KilotonsCo2) AS Kilotons_of_Co2 FROM Carbon_Emissions GROUP BY Country order by Kilotons_of_Co2 desc LIMIT 10\")\n",
        "top_10_countries_pd = top_10_countries_pd.toPandas()\n",
        "\n",
        "# Plot the top 10 countries\n",
        "plt.figure(figsize=(10, 6))\n",
        "plt.barh(top_10_countries_pd['Country'], top_10_countries_pd['Kilotons_of_Co2'], color='skyblue', edgecolor = 'black')\n",
        "plt.xlabel(\"Total CO₂ Emissions\")\n",
        "plt.ylabel(\"Country\")\n",
        "plt.title(\"Top 10 Countries by CO₂ Emissions\")\n",
        "\n",
        "plt.show()"
      ],
      "metadata": {
        "id": "rHWDhD28pC99",
        "colab": {
          "base_uri": "https://localhost:8080/",
          "height": 518
        },
        "outputId": "6532a791-3ada-45c7-f653-55cde86f34a1"
      },
      "execution_count": null,
      "outputs": [
        {
          "output_type": "display_data",
          "data": {
            "text/plain": [
              "<Figure size 1000x600 with 1 Axes>"
            ],
            "image/png": "[encoded data removed]"
          },
          "metadata": {}
        }
      ]
    },
    {
      "cell_type": "code",
      "source": [
        "#Visualise the distribution of Co2 per region.\n",
        "\n",
        "#Import data visualization libraries\n",
        "import seaborn as sns\n",
        "import matplotlib.pyplot as plt\n",
        "\n",
        "# Convert Spark DataFrame to Pandas DataFrame for visualization\n",
        "\n",
        "RegionsDistribution = spark.sql(\"SELECT Region, SUM(KilotonsCo2) AS Kilotons_of_Co2 FROM Carbon_Emissions GROUP BY Region order by Kilotons_of_Co2 desc\")\n",
        "RegionsDistribution = RegionsDistribution.toPandas()\n",
        "\n",
        "# Plot the top 10 countries\n",
        "plt.figure(figsize=(10, 6))\n",
        "plt.bar(RegionsDistribution['Region'], RegionsDistribution['Kilotons_of_Co2'], color='skyblue', edgecolor = 'blue')\n",
        "plt.xlabel(\"Total CO₂ Emissions\")\n",
        "plt.ylabel(\"Region\")\n",
        "plt.title(\"Distribution of CO₂ Emissions by Regions Across the Globe\")\n",
        "plt.grid(True)\n",
        "\n",
        "plt.show()"
      ],
      "metadata": {
        "colab": {
          "base_uri": "https://localhost:8080/",
          "height": 564
        },
        "id": "6gg8NfAKcxWW",
        "outputId": "4df746fa-14e7-41bd-d41e-1ff7475ce2b9"
      },
      "execution_count": null,
      "outputs": [
        {
          "output_type": "display_data",
          "data": {
            "text/plain": [
              "<Figure size 1000x600 with 1 Axes>"
            ],
            "image/png": "[encoded data removed]"
          },
          "metadata": {}
        }
      ]
    },
    {
      "cell_type": "code",
      "source": [
        "# Visualise emissions growth rate over the last decade reference date 2019 per Region\n",
        "# Data is growth_rate_last_decade\n",
        "\n",
        "#growth_rate_last_decade = growth_rate_last_decade.toPandas()\n",
        "\n",
        "# Plot the Regions growth Rates\n",
        "plt.figure(figsize=(10, 6))\n",
        "plt.barh(growth_rate_last_decade['Region'], growth_rate_last_decade['Growth_Rate'], color='skyblue', edgecolor = 'blue')\n",
        "plt.xlabel(\"Total Growth Rate\")\n",
        "plt.ylabel(\"Region\")\n",
        "plt.title(\"Emissions Growth Rate over The Last Decade\")\n",
        "plt.grid(True)\n",
        "\n",
        "plt.show()"
      ],
      "metadata": {
        "colab": {
          "base_uri": "https://localhost:8080/",
          "height": 544
        },
        "id": "ktA9RYvD5txH",
        "outputId": "b1f94b3f-15de-470b-8cb5-3013a452e347"
      },
      "execution_count": 95,
      "outputs": [
        {
          "output_type": "display_data",
          "data": {
            "text/plain": [
              "<Figure size 1000x600 with 1 Axes>"
            ],
            "image/png": "[encoded data removed]"
          },
          "metadata": {}
        }
      ]
    },
    {
      "cell_type": "markdown",
      "source": [
        "## 6. Fitting an ML Model Using PySpark"
      ],
      "metadata": {
        "id": "dPAig0jNrEVD"
      }
    },
    {
      "cell_type": "code",
      "source": [
        "##create an ML model to predict CO₂ emissions based on\n",
        "##factors like year, Region, country"
      ],
      "metadata": {
        "id": "_NyZl0m9rJZ-"
      },
      "execution_count": null,
      "outputs": []
    },
    {
      "cell_type": "code",
      "source": [
        "from pyspark.ml.feature import VectorAssembler\n",
        "from pyspark.ml.regression import LinearRegression\n",
        "from pyspark.ml.evaluation import RegressionEvaluator\n",
        "\n",
        "# Assemble feature columns into a single vector column\n",
        "assembler = VectorAssembler(inputCols=[\"Region\", \"Country\"], outputCol=\"features\")\n",
        "Carbon_Emissions_ml = assembler.transform(Carbon_Emissions)\n",
        "\n",
        "# Split data into training and testing sets\n",
        "train_data, test_data = Carbon_Emissions_ml.randomSplit([0.7, 0.3])\n",
        "\n",
        "# Initialize Linear Regression model\n",
        "lr = LinearRegression(labelCol=\"Kilotons_of_Co2\", featuresCol=\"features\")\n",
        "\n",
        "# Train the model\n",
        "lr_model = lr.fit(train_data)\n",
        "\n",
        "# Make predictions on the test data\n",
        "predictions = lr_model.transform(test_data)\n",
        "\n",
        "# Evaluate the model\n",
        "evaluator = RegressionEvaluator(labelCol=\"Kilotons_of_Co2\", predictionCol=\"prediction\", metricName=\"rmse\")\n",
        "rmse = evaluator.evaluate(predictions)\n",
        "print(f\"Root Mean Squared Error (RMSE): {rmse}\")\n"
      ],
      "metadata": {
        "id": "JIuXEb0Jrmrv",
        "colab": {
          "base_uri": "https://localhost:8080/",
          "height": 356
        },
        "outputId": "d9e7b844-1a15-4aa7-b366-c1aac5ab6634"
      },
      "execution_count": 98,
      "outputs": [
        {
          "output_type": "error",
          "ename": "IllegalArgumentException",
          "evalue": "Region does not exist. Available: Date, day, month, year",
          "traceback": [
            "\u001b[0;31m---------------------------------------------------------------------------\u001b[0m",
            "\u001b[0;31mIllegalArgumentException\u001b[0m                  Traceback (most recent call last)",
            "\u001b[0;32m<ipython-input-98-7dd49c8d6c89>\u001b[0m in \u001b[0;36m<cell line: 7>\u001b[0;34m()\u001b[0m\n\u001b[1;32m      5\u001b[0m \u001b[0;31m# Assemble feature columns into a single vector column\u001b[0m\u001b[0;34m\u001b[0m\u001b[0;34m\u001b[0m\u001b[0m\n\u001b[1;32m      6\u001b[0m \u001b[0massembler\u001b[0m \u001b[0;34m=\u001b[0m \u001b[0mVectorAssembler\u001b[0m\u001b[0;34m(\u001b[0m\u001b[0minputCols\u001b[0m\u001b[0;34m=\u001b[0m\u001b[0;34m[\u001b[0m\u001b[0;34m\"Region\"\u001b[0m\u001b[0;34m,\u001b[0m \u001b[0;34m\"Country\"\u001b[0m\u001b[0;34m]\u001b[0m\u001b[0;34m,\u001b[0m \u001b[0moutputCol\u001b[0m\u001b[0;34m=\u001b[0m\u001b[0;34m\"features\"\u001b[0m\u001b[0;34m)\u001b[0m\u001b[0;34m\u001b[0m\u001b[0;34m\u001b[0m\u001b[0m\n\u001b[0;32m----> 7\u001b[0;31m \u001b[0mCarbon_Emissions_ml\u001b[0m \u001b[0;34m=\u001b[0m \u001b[0massembler\u001b[0m\u001b[0;34m.\u001b[0m\u001b[0mtransform\u001b[0m\u001b[0;34m(\u001b[0m\u001b[0mCarbon_Emissions\u001b[0m\u001b[0;34m)\u001b[0m\u001b[0;34m\u001b[0m\u001b[0;34m\u001b[0m\u001b[0m\n\u001b[0m\u001b[1;32m      8\u001b[0m \u001b[0;34m\u001b[0m\u001b[0m\n\u001b[1;32m      9\u001b[0m \u001b[0;31m# Split data into training and testing sets\u001b[0m\u001b[0;34m\u001b[0m\u001b[0;34m\u001b[0m\u001b[0m\n",
            "\u001b[0;32m/usr/local/lib/python3.10/dist-packages/pyspark/ml/base.py\u001b[0m in \u001b[0;36mtransform\u001b[0;34m(self, dataset, params)\u001b[0m\n\u001b[1;32m    260\u001b[0m                 \u001b[0;32mreturn\u001b[0m \u001b[0mself\u001b[0m\u001b[0;34m.\u001b[0m\u001b[0mcopy\u001b[0m\u001b[0;34m(\u001b[0m\u001b[0mparams\u001b[0m\u001b[0;34m)\u001b[0m\u001b[0;34m.\u001b[0m\u001b[0m_transform\u001b[0m\u001b[0;34m(\u001b[0m\u001b[0mdataset\u001b[0m\u001b[0;34m)\u001b[0m\u001b[0;34m\u001b[0m\u001b[0;34m\u001b[0m\u001b[0m\n\u001b[1;32m    261\u001b[0m             \u001b[0;32melse\u001b[0m\u001b[0;34m:\u001b[0m\u001b[0;34m\u001b[0m\u001b[0;34m\u001b[0m\u001b[0m\n\u001b[0;32m--> 262\u001b[0;31m                 \u001b[0;32mreturn\u001b[0m \u001b[0mself\u001b[0m\u001b[0;34m.\u001b[0m\u001b[0m_transform\u001b[0m\u001b[0;34m(\u001b[0m\u001b[0mdataset\u001b[0m\u001b[0;34m)\u001b[0m\u001b[0;34m\u001b[0m\u001b[0;34m\u001b[0m\u001b[0m\n\u001b[0m\u001b[1;32m    263\u001b[0m         \u001b[0;32melse\u001b[0m\u001b[0;34m:\u001b[0m\u001b[0;34m\u001b[0m\u001b[0;34m\u001b[0m\u001b[0m\n\u001b[1;32m    264\u001b[0m             \u001b[0;32mraise\u001b[0m \u001b[0mTypeError\u001b[0m\u001b[0;34m(\u001b[0m\u001b[0;34m\"Params must be a param map but got %s.\"\u001b[0m \u001b[0;34m%\u001b[0m \u001b[0mtype\u001b[0m\u001b[0;34m(\u001b[0m\u001b[0mparams\u001b[0m\u001b[0;34m)\u001b[0m\u001b[0;34m)\u001b[0m\u001b[0;34m\u001b[0m\u001b[0;34m\u001b[0m\u001b[0m\n",
            "\u001b[0;32m/usr/local/lib/python3.10/dist-packages/pyspark/ml/wrapper.py\u001b[0m in \u001b[0;36m_transform\u001b[0;34m(self, dataset)\u001b[0m\n\u001b[1;32m    396\u001b[0m \u001b[0;34m\u001b[0m\u001b[0m\n\u001b[1;32m    397\u001b[0m         \u001b[0mself\u001b[0m\u001b[0;34m.\u001b[0m\u001b[0m_transfer_params_to_java\u001b[0m\u001b[0;34m(\u001b[0m\u001b[0;34m)\u001b[0m\u001b[0;34m\u001b[0m\u001b[0;34m\u001b[0m\u001b[0m\n\u001b[0;32m--> 398\u001b[0;31m         \u001b[0;32mreturn\u001b[0m \u001b[0mDataFrame\u001b[0m\u001b[0;34m(\u001b[0m\u001b[0mself\u001b[0m\u001b[0;34m.\u001b[0m\u001b[0m_java_obj\u001b[0m\u001b[0;34m.\u001b[0m\u001b[0mtransform\u001b[0m\u001b[0;34m(\u001b[0m\u001b[0mdataset\u001b[0m\u001b[0;34m.\u001b[0m\u001b[0m_jdf\u001b[0m\u001b[0;34m)\u001b[0m\u001b[0;34m,\u001b[0m \u001b[0mdataset\u001b[0m\u001b[0;34m.\u001b[0m\u001b[0msparkSession\u001b[0m\u001b[0;34m)\u001b[0m\u001b[0;34m\u001b[0m\u001b[0;34m\u001b[0m\u001b[0m\n\u001b[0m\u001b[1;32m    399\u001b[0m \u001b[0;34m\u001b[0m\u001b[0m\n\u001b[1;32m    400\u001b[0m \u001b[0;34m\u001b[0m\u001b[0m\n",
            "\u001b[0;32m/usr/local/lib/python3.10/dist-packages/py4j/java_gateway.py\u001b[0m in \u001b[0;36m__call__\u001b[0;34m(self, *args)\u001b[0m\n\u001b[1;32m   1320\u001b[0m \u001b[0;34m\u001b[0m\u001b[0m\n\u001b[1;32m   1321\u001b[0m         \u001b[0manswer\u001b[0m \u001b[0;34m=\u001b[0m \u001b[0mself\u001b[0m\u001b[0;34m.\u001b[0m\u001b[0mgateway_client\u001b[0m\u001b[0;34m.\u001b[0m\u001b[0msend_command\u001b[0m\u001b[0;34m(\u001b[0m\u001b[0mcommand\u001b[0m\u001b[0;34m)\u001b[0m\u001b[0;34m\u001b[0m\u001b[0;34m\u001b[0m\u001b[0m\n\u001b[0;32m-> 1322\u001b[0;31m         return_value = get_return_value(\n\u001b[0m\u001b[1;32m   1323\u001b[0m             answer, self.gateway_client, self.target_id, self.name)\n\u001b[1;32m   1324\u001b[0m \u001b[0;34m\u001b[0m\u001b[0m\n",
            "\u001b[0;32m/usr/local/lib/python3.10/dist-packages/pyspark/errors/exceptions/captured.py\u001b[0m in \u001b[0;36mdeco\u001b[0;34m(*a, **kw)\u001b[0m\n\u001b[1;32m    183\u001b[0m                 \u001b[0;31m# Hide where the exception came from that shows a non-Pythonic\u001b[0m\u001b[0;34m\u001b[0m\u001b[0;34m\u001b[0m\u001b[0m\n\u001b[1;32m    184\u001b[0m                 \u001b[0;31m# JVM exception message.\u001b[0m\u001b[0;34m\u001b[0m\u001b[0;34m\u001b[0m\u001b[0m\n\u001b[0;32m--> 185\u001b[0;31m                 \u001b[0;32mraise\u001b[0m \u001b[0mconverted\u001b[0m \u001b[0;32mfrom\u001b[0m \u001b[0;32mNone\u001b[0m\u001b[0;34m\u001b[0m\u001b[0;34m\u001b[0m\u001b[0m\n\u001b[0m\u001b[1;32m    186\u001b[0m             \u001b[0;32melse\u001b[0m\u001b[0;34m:\u001b[0m\u001b[0;34m\u001b[0m\u001b[0;34m\u001b[0m\u001b[0m\n\u001b[1;32m    187\u001b[0m                 \u001b[0;32mraise\u001b[0m\u001b[0;34m\u001b[0m\u001b[0;34m\u001b[0m\u001b[0m\n",
            "\u001b[0;31mIllegalArgumentException\u001b[0m: Region does not exist. Available: Date, day, month, year"
          ]
        }
      ]
    },
    {
      "cell_type": "code",
      "source": [
        "spark.sql('select * from Carbon_Emissions')"
      ],
      "metadata": {
        "colab": {
          "base_uri": "https://localhost:8080/"
        },
        "id": "KPpWdVgk__HX",
        "outputId": "22f54de7-a47e-4154-f09d-fbffb93c26b1"
      },
      "execution_count": 100,
      "outputs": [
        {
          "output_type": "execute_result",
          "data": {
            "text/plain": [
              "DataFrame[Country: string, Region: string, Date: string, KilotonsCo2: double, MetricTonsPerCapita: double]"
            ]
          },
          "metadata": {},
          "execution_count": 100
        }
      ]
    }
  ]
}